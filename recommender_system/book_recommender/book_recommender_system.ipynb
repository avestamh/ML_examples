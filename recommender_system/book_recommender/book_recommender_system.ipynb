{
 "cells": [
  {
   "cell_type": "markdown",
   "metadata": {},
   "source": [
    "This code has 2 recommender method\n",
    "\n",
    "Popularity based filtering and collaborative Filtering\n",
    "\n",
    "other methods are:\n",
    "content based filtering and Hybrid method\n",
    "\n",
   
   ]
  },
  {
   "cell_type": "code",
   "execution_count": 1,
   "metadata": {},
   "outputs": [],
   "source": [
    "import numpy as np\n",
    "import pandas as pd\n",
    "import warnings\n",
    "warnings.filterwarnings('ignore')"
   ]
  },
  {
   "cell_type": "code",
   "execution_count": 19,
   "metadata": {},
   "outputs": [
    {
     "name": "stdout",
     "output_type": "stream",
     "text": [
      "         ISBN                                         Book-Title\n",
      "0  0195153448                                Classical Mythology\n",
      "1  0002005018                                       Clara Callan\n",
      "2  0060973129                               Decision in Normandy\n",
      "3  0374157065  Flu: The Story of the Great Influenza Pandemic...\n",
      "4  0393045218                             The Mummies of Urumchi\n"
     ]
    }
   ],
   "source": [
    "books   = pd.read_csv('dataset/Books.csv')[['ISBN', 'Book-Title']]\n",
    "ratings = pd.read_csv('dataset/Ratings.csv')\n",
    "users   = pd.read_csv('dataset/Users.csv')\n",
    "print(books.head())"
   ]
  },
  {
   "cell_type": "markdown",
   "metadata": {},
   "source": [
    "### Popularity based filtering"
   ]
  },
  {
   "cell_type": "code",
   "execution_count": 20,
   "metadata": {},
   "outputs": [
    {
     "name": "stdout",
     "output_type": "stream",
     "text": [
      "book_rating: \n",
      "          ISBN           Book-Title  User-ID  Book-Rating\n",
      "0  0195153448  Classical Mythology        2            0\n",
      "1  0002005018         Clara Callan        8            5\n",
      "2  0002005018         Clara Callan    11400            0\n",
      "3  0002005018         Clara Callan    11676            8\n",
      "4  0002005018         Clara Callan    41385            0\n",
      "user rating: \n",
      "    User-ID                   Location   Age        ISBN  Book-Rating\n",
      "0        2  stockton, california, usa  18.0  0195153448            0\n",
      "1        7        washington, dc, usa   NaN   034542252            0\n",
      "2        8   timmins, ontario, canada   NaN  0002005018            5\n",
      "3        8   timmins, ontario, canada   NaN  0060973129            0\n",
      "4        8   timmins, ontario, canada   NaN  0374157065            0\n"
     ]
    }
   ],
   "source": [
    "## merge books and rating on the ISBN column, merge user and rating on the USER-ID column\n",
    "book_rating = books.merge(ratings, on='ISBN')\n",
    "user_rating = users.merge(ratings, on='User-ID')\n",
    "\n",
    "print('book_rating: \\n', book_rating.head())\n",
    "print(\"user rating: \\n\", user_rating.head())\n",
    "\n"
   ]
  },
  {
   "cell_type": "code",
   "execution_count": null,
   "metadata": {},
   "outputs": [
    {
     "name": "stdout",
     "output_type": "stream",
     "text": [
      "                                          Book-Title  Num-Rating  Avg-Rating\n",
      "0   A Light in the Storm: The Civil War Diary of ...           4        2.25\n",
      "1                              Always Have Popsicles           1        0.00\n",
      "2               Apple Magic (The Collector's series)           1        0.00\n",
      "3   Ask Lily (Young Women of Faith: Lily Series, ...           1        8.00\n",
      "4   Beyond IBM: Leadership Marketing and Finance ...           1        0.00\n"
     ]
    }
   ],
   "source": [
    "## make two new data frame to have the number of rating and the average rating\n",
    "\n",
    "book_num_ratings = book_rating.groupby('Book-Title')['Book-Rating'].count().reset_index().rename(columns={'Book-Rating':'Num-Rating'})\n",
    "book_avg_ratings = book_rating.groupby('Book-Title')['Book-Rating'].mean().reset_index().rename(columns={'Book-Rating':'Avg-Rating'})\n",
    "final_rating = book_num_ratings.merge(book_avg_ratings, on='Book-Title')\n",
    "\n",
    "print(final_rating.head())"
   ]
  },
  {
   "cell_type": "code",
   "execution_count": 24,
   "metadata": {},
   "outputs": [
    {
     "name": "stdout",
     "output_type": "stream",
     "text": [
      "                                          Book-Title  Num-Rating  Avg-Rating\n",
      "0  Harry Potter and the Prisoner of Azkaban (Book 3)         428    5.852804\n",
      "1       Harry Potter and the Goblet of Fire (Book 4)         387    5.824289\n",
      "2     Harry Potter and the Sorcerer's Stone (Book 1)         278    5.737410\n",
      "3  Harry Potter and the Order of the Phoenix (Boo...         347    5.501441\n",
      "4   Harry Potter and the Chamber of Secrets (Book 2)         556    5.183453\n"
     ]
    }
   ],
   "source": [
    "# books with more than 250 rating (to implement popularity)\n",
    "popular_books = final_rating[final_rating['Num-Rating']>250].sort_values(by='Avg-Rating', ascending=False).reset_index(drop=True).head(50)\n",
    "print(popular_books.head(5))"
   ]
  },
  {
   "cell_type": "markdown",
   "metadata": {},
   "source": [
    "### collaborative filtering \n",
    "consider users with more than 200 books and books with min 50 ratings\n"
   ]
  },
  {
   "cell_type": "code",
   "execution_count": null,
   "metadata": {},
   "outputs": [
    {
     "name": "stdout",
     "output_type": "stream",
     "text": [
      "User-ID\n",
      "254     True\n",
      "2276    True\n",
      "2766    True\n",
      "2977    True\n",
      "3363    True\n",
      "Name: Book-Rating, dtype: bool\n",
      "          ISBN              Book-Title  User-ID  Book-Rating\n",
      "31  0399135782  The Kitchen God's Wife    11676            9\n",
      "33  0399135782  The Kitchen God's Wife    36836            0\n",
      "34  0399135782  The Kitchen God's Wife    46398            9\n",
      "38  0399135782  The Kitchen God's Wife   113270            0\n",
      "39  0399135782  The Kitchen God's Wife   113519            0\n"
     ]
    }
   ],
   "source": [
    "x = book_rating.groupby('User-ID').count()['Book-Rating'] > 200\n",
    "print(x.head(5))\n",
    "educated_user = x[x].index\n",
    "\n",
    "book_rating = book_rating[book_rating['User-ID'].isin(educated_user)]\n",
    "\n",
    "y = book_rating.groupby('Book-Title')['Book-Rating'].count() >= 50\n",
    "famous_book = y[y].index\n",
    "\n",
    "# books with min 50 ratings and user who rated min 200 books\n",
    "final = book_rating[book_rating['Book-Title'].isin(famous_book)]\n",
    "print(final.head())\n"
   ]
  },
  {
   "cell_type": "code",
   "execution_count": 37,
   "metadata": {},
   "outputs": [
    {
     "data": {
      "text/html": [
       "<div>\n",
       "<style scoped>\n",
       "    .dataframe tbody tr th:only-of-type {\n",
       "        vertical-align: middle;\n",
       "    }\n",
       "\n",
       "    .dataframe tbody tr th {\n",
       "        vertical-align: top;\n",
       "    }\n",
       "\n",
       "    .dataframe thead th {\n",
       "        text-align: right;\n",
       "    }\n",
       "</style>\n",
       "<table border=\"1\" class=\"dataframe\">\n",
       "  <thead>\n",
       "    <tr style=\"text-align: right;\">\n",
       "      <th>User-ID</th>\n",
       "      <th>254</th>\n",
       "      <th>2276</th>\n",
       "      <th>2766</th>\n",
       "      <th>2977</th>\n",
       "      <th>3363</th>\n",
       "      <th>4017</th>\n",
       "      <th>4385</th>\n",
       "      <th>6251</th>\n",
       "      <th>6323</th>\n",
       "      <th>6543</th>\n",
       "      <th>...</th>\n",
       "      <th>271705</th>\n",
       "      <th>273979</th>\n",
       "      <th>274004</th>\n",
       "      <th>274061</th>\n",
       "      <th>274301</th>\n",
       "      <th>274308</th>\n",
       "      <th>275970</th>\n",
       "      <th>277427</th>\n",
       "      <th>277639</th>\n",
       "      <th>278418</th>\n",
       "    </tr>\n",
       "    <tr>\n",
       "      <th>Book-Title</th>\n",
       "      <th></th>\n",
       "      <th></th>\n",
       "      <th></th>\n",
       "      <th></th>\n",
       "      <th></th>\n",
       "      <th></th>\n",
       "      <th></th>\n",
       "      <th></th>\n",
       "      <th></th>\n",
       "      <th></th>\n",
       "      <th></th>\n",
       "      <th></th>\n",
       "      <th></th>\n",
       "      <th></th>\n",
       "      <th></th>\n",
       "      <th></th>\n",
       "      <th></th>\n",
       "      <th></th>\n",
       "      <th></th>\n",
       "      <th></th>\n",
       "      <th></th>\n",
       "    </tr>\n",
       "  </thead>\n",
       "  <tbody>\n",
       "    <tr>\n",
       "      <th>1984</th>\n",
       "      <td>9.0</td>\n",
       "      <td>0.0</td>\n",
       "      <td>0.0</td>\n",
       "      <td>0.0</td>\n",
       "      <td>0.0</td>\n",
       "      <td>0.0</td>\n",
       "      <td>0.0</td>\n",
       "      <td>0.0</td>\n",
       "      <td>0.0</td>\n",
       "      <td>0.0</td>\n",
       "      <td>...</td>\n",
       "      <td>10.0</td>\n",
       "      <td>0.0</td>\n",
       "      <td>0.0</td>\n",
       "      <td>0.0</td>\n",
       "      <td>0.0</td>\n",
       "      <td>0.0</td>\n",
       "      <td>0.0</td>\n",
       "      <td>0.0</td>\n",
       "      <td>0.0</td>\n",
       "      <td>0.0</td>\n",
       "    </tr>\n",
       "    <tr>\n",
       "      <th>1st to Die: A Novel</th>\n",
       "      <td>0.0</td>\n",
       "      <td>0.0</td>\n",
       "      <td>0.0</td>\n",
       "      <td>0.0</td>\n",
       "      <td>0.0</td>\n",
       "      <td>0.0</td>\n",
       "      <td>0.0</td>\n",
       "      <td>0.0</td>\n",
       "      <td>0.0</td>\n",
       "      <td>9.0</td>\n",
       "      <td>...</td>\n",
       "      <td>0.0</td>\n",
       "      <td>0.0</td>\n",
       "      <td>0.0</td>\n",
       "      <td>0.0</td>\n",
       "      <td>0.0</td>\n",
       "      <td>0.0</td>\n",
       "      <td>0.0</td>\n",
       "      <td>0.0</td>\n",
       "      <td>0.0</td>\n",
       "      <td>0.0</td>\n",
       "    </tr>\n",
       "    <tr>\n",
       "      <th>2nd Chance</th>\n",
       "      <td>0.0</td>\n",
       "      <td>10.0</td>\n",
       "      <td>0.0</td>\n",
       "      <td>0.0</td>\n",
       "      <td>0.0</td>\n",
       "      <td>0.0</td>\n",
       "      <td>0.0</td>\n",
       "      <td>0.0</td>\n",
       "      <td>0.0</td>\n",
       "      <td>0.0</td>\n",
       "      <td>...</td>\n",
       "      <td>0.0</td>\n",
       "      <td>0.0</td>\n",
       "      <td>0.0</td>\n",
       "      <td>0.0</td>\n",
       "      <td>0.0</td>\n",
       "      <td>0.0</td>\n",
       "      <td>0.0</td>\n",
       "      <td>0.0</td>\n",
       "      <td>0.0</td>\n",
       "      <td>0.0</td>\n",
       "    </tr>\n",
       "    <tr>\n",
       "      <th>4 Blondes</th>\n",
       "      <td>0.0</td>\n",
       "      <td>0.0</td>\n",
       "      <td>0.0</td>\n",
       "      <td>0.0</td>\n",
       "      <td>0.0</td>\n",
       "      <td>0.0</td>\n",
       "      <td>0.0</td>\n",
       "      <td>0.0</td>\n",
       "      <td>0.0</td>\n",
       "      <td>0.0</td>\n",
       "      <td>...</td>\n",
       "      <td>0.0</td>\n",
       "      <td>0.0</td>\n",
       "      <td>0.0</td>\n",
       "      <td>0.0</td>\n",
       "      <td>0.0</td>\n",
       "      <td>0.0</td>\n",
       "      <td>0.0</td>\n",
       "      <td>0.0</td>\n",
       "      <td>0.0</td>\n",
       "      <td>0.0</td>\n",
       "    </tr>\n",
       "    <tr>\n",
       "      <th>A Bend in the Road</th>\n",
       "      <td>0.0</td>\n",
       "      <td>0.0</td>\n",
       "      <td>7.0</td>\n",
       "      <td>0.0</td>\n",
       "      <td>0.0</td>\n",
       "      <td>0.0</td>\n",
       "      <td>0.0</td>\n",
       "      <td>0.0</td>\n",
       "      <td>0.0</td>\n",
       "      <td>0.0</td>\n",
       "      <td>...</td>\n",
       "      <td>0.0</td>\n",
       "      <td>0.0</td>\n",
       "      <td>0.0</td>\n",
       "      <td>0.0</td>\n",
       "      <td>0.0</td>\n",
       "      <td>0.0</td>\n",
       "      <td>0.0</td>\n",
       "      <td>0.0</td>\n",
       "      <td>0.0</td>\n",
       "      <td>0.0</td>\n",
       "    </tr>\n",
       "  </tbody>\n",
       "</table>\n",
       "<p>5 rows × 810 columns</p>\n",
       "</div>"
      ],
      "text/plain": [
       "User-ID              254     2276    2766    2977    3363    4017    4385    \\\n",
       "Book-Title                                                                    \n",
       "1984                    9.0     0.0     0.0     0.0     0.0     0.0     0.0   \n",
       "1st to Die: A Novel     0.0     0.0     0.0     0.0     0.0     0.0     0.0   \n",
       "2nd Chance              0.0    10.0     0.0     0.0     0.0     0.0     0.0   \n",
       "4 Blondes               0.0     0.0     0.0     0.0     0.0     0.0     0.0   \n",
       "A Bend in the Road      0.0     0.0     7.0     0.0     0.0     0.0     0.0   \n",
       "\n",
       "User-ID              6251    6323    6543    ...  271705  273979  274004  \\\n",
       "Book-Title                                   ...                           \n",
       "1984                    0.0     0.0     0.0  ...    10.0     0.0     0.0   \n",
       "1st to Die: A Novel     0.0     0.0     9.0  ...     0.0     0.0     0.0   \n",
       "2nd Chance              0.0     0.0     0.0  ...     0.0     0.0     0.0   \n",
       "4 Blondes               0.0     0.0     0.0  ...     0.0     0.0     0.0   \n",
       "A Bend in the Road      0.0     0.0     0.0  ...     0.0     0.0     0.0   \n",
       "\n",
       "User-ID              274061  274301  274308  275970  277427  277639  278418  \n",
       "Book-Title                                                                   \n",
       "1984                    0.0     0.0     0.0     0.0     0.0     0.0     0.0  \n",
       "1st to Die: A Novel     0.0     0.0     0.0     0.0     0.0     0.0     0.0  \n",
       "2nd Chance              0.0     0.0     0.0     0.0     0.0     0.0     0.0  \n",
       "4 Blondes               0.0     0.0     0.0     0.0     0.0     0.0     0.0  \n",
       "A Bend in the Road      0.0     0.0     0.0     0.0     0.0     0.0     0.0  \n",
       "\n",
       "[5 rows x 810 columns]"
      ]
     },
     "execution_count": 37,
     "metadata": {},
     "output_type": "execute_result"
    }
   ],
   "source": [
    "# create a pivot table\n",
    "pt = final.pivot_table(index='Book-Title', columns='User-ID', values='Book-Rating').fillna(0)\n",
    "pt.head()"
   ]
  },
  {
   "cell_type": "code",
   "execution_count": null,
   "metadata": {},
   "outputs": [
    {
     "name": "stdout",
     "output_type": "stream",
     "text": [
      "similarity_score: \n",
      "  [[1.         0.10255025 0.01220856 ... 0.12110367 0.07347567 0.04316046]\n",
      " [0.10255025 1.         0.2364573  ... 0.07446129 0.16773875 0.14263397]\n",
      " [0.01220856 0.2364573  1.         ... 0.04558758 0.04938579 0.10796119]\n",
      " ...\n",
      " [0.12110367 0.07446129 0.04558758 ... 1.         0.07085128 0.0196177 ]\n",
      " [0.07347567 0.16773875 0.04938579 ... 0.07085128 1.         0.10602962]\n",
      " [0.04316046 0.14263397 0.10796119 ... 0.0196177  0.10602962 1.        ]] \n",
      " **************************************************\n",
      "The House of the Spirits\n",
      "Pride and Prejudice\n",
      "Pleading Guilty\n",
      "Seabiscuit\n",
      "Notes from a Small Island\n"
     ]
    }
   ],
   "source": [
    "## use cosine similarity to calculate similarity between each book. the following code snipet recommend 5 books\n",
    "from sklearn.metrics.pairwise import cosine_similarity\n",
    "similarity_scores = cosine_similarity(pt)\n",
    "print('similarity_score: \\n ', similarity_scores, '\\n', 50*'*')\n",
    "\n",
    "def recommend(book_name):\n",
    "    index = np.where(pt.index == book_name)[0][0]\n",
    "    similar_books = sorted(enumerate(similarity_scores[index]), key=lambda x: x[1], reverse=True)[1:6]\n",
    "\n",
    "    for i in similar_books:\n",
    "        print(pt.index[i[0]])\n",
    "\n",
    "recommend('4 Blondes')"
   ]
  }
 ],
 "metadata": {
  "kernelspec": {
   "display_name": "tf_gpu",
   "language": "python",
   "name": "python3"
  },
  "language_info": {
   "codemirror_mode": {
    "name": "ipython",
    "version": 3
   },
   "file_extension": ".py",
   "mimetype": "text/x-python",
   "name": "python",
   "nbconvert_exporter": "python",
   "pygments_lexer": "ipython3",
   "version": "3.9.7"
  }
 },
 "nbformat": 4,
 "nbformat_minor": 2
}
