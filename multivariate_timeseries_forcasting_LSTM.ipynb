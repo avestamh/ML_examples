{
 "cells": [
  {
   "cell_type": "markdown",
   "metadata": {},
   "source": [
    "this code is based on a Youtube training by DigitalSreeni \n",
    "https://www.youtube.com/watch?v=tepxdcepTbY \n",
     "Author: Sadra Avstan Oct 2024"
   ]
  },
  {
   "cell_type": "code",
   "execution_count": 41,
   "metadata": {},
   "outputs": [
    {
     "name": "stdout",
     "output_type": "stream",
     "text": [
      "Numpy version: 1.21.6\n",
      "TensorFlow version: 2.9.0\n"
     ]
    }
   ],
   "source": [
    "import tensorflow as tf\n",
    "import numpy as np\n",
    "print(\"Numpy version:\", np.__version__)\n",
    "print(\"TensorFlow version:\", tf.__version__)"
   ]
  },
  {
   "cell_type": "code",
   "execution_count": 42,
   "metadata": {},
   "outputs": [],
   "source": [
    "import tensorflow as tf\n",
    "from tensorflow.keras.models import Sequential\n",
    "from tensorflow.keras.layers import LSTM, Dense, Dropout\n",
    "import pandas as pd\n",
    "from matplotlib import pyplot as plt\n",
    "from sklearn.preprocessing import StandardScaler\n",
    "import seaborn as sns\n",
    "\n",
    "from tensorflow.keras import backend as K\n"
   ]
  },
  {
   "cell_type": "code",
   "execution_count": 43,
   "metadata": {},
   "outputs": [
    {
     "name": "stdout",
     "output_type": "stream",
     "text": [
      "           Date    Open    High     Low   Close  Adj Close      Volume\n",
      "0  Oct 28, 2024  179.98  180.58  175.30  176.57     176.57   1,787,605\n",
      "1  Oct 25, 2024  180.00  181.42  178.30  179.10     179.10   3,972,800\n",
      "2  Oct 24, 2024  181.90  182.21  179.63  179.74     179.74   4,366,800\n",
      "3  Oct 23, 2024  179.70  184.98  179.62  181.69     181.69   9,788,600\n",
      "4  Oct 22, 2024  184.50  185.00  175.75  176.66     176.66  15,636,200\n"
     ]
    }
   ],
   "source": [
    "df = pd.read_csv('ge_stock.csv')\n",
    "print(df.head())"
   ]
  },
  {
   "cell_type": "code",
   "execution_count": 44,
   "metadata": {},
   "outputs": [
    {
     "name": "stdout",
     "output_type": "stream",
     "text": [
      "236   2024-10-08\n",
      "237   2024-10-09\n",
      "238   2024-10-10\n",
      "239   2024-10-11\n",
      "240   2024-10-14\n",
      "241   2024-10-15\n",
      "242   2024-10-16\n",
      "243   2024-10-17\n",
      "244   2024-10-18\n",
      "245   2024-10-21\n",
      "246   2024-10-22\n",
      "247   2024-10-23\n",
      "248   2024-10-24\n",
      "249   2024-10-25\n",
      "250   2024-10-28\n",
      "Name: Date, dtype: datetime64[ns]\n"
     ]
    }
   ],
   "source": [
    "# Reverse the DataFrame to have ascending dates\n",
    "df = df.iloc[::-1].reset_index(drop=True)\n",
    "\n",
    "#Separate dates for future plotting\n",
    "train_dates = pd.to_datetime(df['Date'])\n",
    "print(train_dates.tail(15)) #Check last few dates. "
   ]
  },
  {
   "cell_type": "code",
   "execution_count": 45,
   "metadata": {},
   "outputs": [
    {
     "name": "stdout",
     "output_type": "stream",
     "text": [
      "['Open', 'High', 'Low', 'Close', 'Adj Close']\n"
     ]
    }
   ],
   "source": [
    "## variables for training\n",
    "cols = list(df)[1:6]\n",
    "print(cols)"
   ]
  },
  {
   "cell_type": "code",
   "execution_count": 46,
   "metadata": {},
   "outputs": [],
   "source": [
    "df_for_training = df[cols].astype(float)"
   ]
  },
  {
   "cell_type": "markdown",
   "metadata": {},
   "source": [
    "## LSTM used sigmoid and tanh are sensitive to magnitude; therefore, the values need to be normalized\n",
    "In the standard LSTM network, sigmoid is used as the gating function and the tanh is used as the output activation function.\n",
    "LSTMs manage an internal state vector whose values should be able to increase or decrease when we add the output of some function. Sigmoid output is always non-negative; values in the state would only increase. The output from tanh can be positive or negative, allowing for increases and decreases in the state."
   ]
  },
  {
   "cell_type": "code",
   "execution_count": 47,
   "metadata": {},
   "outputs": [
    {
     "name": "stdout",
     "output_type": "stream",
     "text": [
      "df_for_training_scaled shape:  (251, 5)\n"
     ]
    },
    {
     "data": {
      "text/plain": [
       "array([[-1.7709407 , -1.72961097, -1.75701852, -1.72901304, -1.72443396],\n",
       "       [-1.72162124, -1.7473692 , -1.74026219, -1.75832309, -1.75363791],\n",
       "       [-1.75170921, -1.78196712, -1.79717047, -1.79293388, -1.78750206],\n",
       "       ...,\n",
       "       [ 1.20963008,  1.14967148,  1.21169664,  1.14274758,  1.15215471],\n",
       "       [ 1.15069487,  1.12548354,  1.16964775,  1.12279181,  1.13227117],\n",
       "       [ 1.1500745 ,  1.09976473,  1.07480062,  1.04390414,  1.05366906]])"
      ]
     },
     "execution_count": 47,
     "metadata": {},
     "output_type": "execute_result"
    }
   ],
   "source": [
    "\n",
    "## normalize the dataset\n",
    "scaler = StandardScaler()\n",
    "scaler = scaler.fit(df_for_training)\n",
    "df_for_training_scaled = scaler.transform(df_for_training)\n",
    "print('df_for_training_scaled shape: ', df_for_training_scaled.shape)\n",
    "df_for_training_scaled"
   ]
  },
  {
   "cell_type": "markdown",
   "metadata": {},
   "source": [
    "As required for LSTM networks, we require to reshape an input data into n_samples x timesteps x n_features. \n",
    "In this example, the n_features is 5. We will make timesteps = 14 (past days data used for training)."
   ]
  },
  {
   "cell_type": "code",
   "execution_count": 48,
   "metadata": {},
   "outputs": [],
   "source": [
    "# Empty lists to be poplulated using formatted training data\n",
    "trainX = []\n",
    "trainY = []\n",
    "\n",
    "n_future = 1 # number of days we want to look into the future based on the past days.\n",
    "n_past = 14 # number of past dasy we want to use to predict the future."
   ]
  },
  {
   "cell_type": "markdown",
   "metadata": {},
   "source": [
    "##Reformat input data into a shape: (n_samples x timesteps x n_features)\n",
    "In my example, my df_for_training_scaled has a shape (251, 5)\n",
    "251 refers to the number of data points and 5 refers to the columns (multi-variables)."
   ]
  },
  {
   "cell_type": "code",
   "execution_count": 49,
   "metadata": {},
   "outputs": [
    {
     "name": "stdout",
     "output_type": "stream",
     "text": [
      "trainX shape == (237, 14, 5)\n",
      "trainY shape == (237, 1)\n"
     ]
    }
   ],
   "source": [
    "for i in range(n_past, len(df_for_training_scaled) - n_future +1):\n",
    "    trainX.append(df_for_training_scaled[i - n_past:i, 0:df_for_training.shape[1]])\n",
    "    trainY.append(df_for_training_scaled[i + n_future - 1:i + n_future, 0])\n",
    "\n",
    "## convert the lists to arrays\n",
    "trainX, trainY = np.array(trainX), np.array(trainY)\n",
    "\n",
    "print(f'trainX shape == {trainX.shape}')\n",
    "print(f'trainY shape == {trainY.shape}')\n",
    "# print(trainX)"
   ]
  },
  {
   "cell_type": "markdown",
   "metadata": {},
   "source": [
    "In this case, trainX has a shape (237, 14, 5). \n",
    "237 because we are looking back 14 days (251 - 14 = 237). \n",
    "Remember that we cannot look back 14 days until we get to the 15th day. \n",
    "Also, trainY has a shape (237, 1). Our model only predicts a single value, but \n",
    "it needs multiple variables (5 in my example) to make this prediction. \n",
    "This is why we can only predict a single day after our training, the day after where our data ends.\n",
    "To predict more days in future, we need all the 5 variables which we do not have. \n",
    "We need to predict all variables if we want to do that. "
   ]
  },
  {
   "cell_type": "markdown",
   "metadata": {},
   "source": [
    "## Define Autoencoder\n",
    "we use rturn_sequence = True when we want to return the sequence of current LSTM to the next LSTM to process.\n",
    "in the secodn LSTM we use return_sequnce = False because the next layer is jost a Dropoup layer or can go directly go to Dense and we do not need to return sequence we direcly return vectors that go to your dense layer and you compiling it"
   ]
  },
  {
   "cell_type": "code",
   "execution_count": 50,
   "metadata": {},
   "outputs": [
    {
     "name": "stdout",
     "output_type": "stream",
     "text": [
      "WARNING:tensorflow:Layer lstm will not use cuDNN kernels since it doesn't meet the criteria. It will use a generic GPU kernel as fallback when running on GPU.\n",
      "WARNING:tensorflow:Layer lstm_1 will not use cuDNN kernels since it doesn't meet the criteria. It will use a generic GPU kernel as fallback when running on GPU.\n",
      "Model: \"sequential\"\n",
      "_________________________________________________________________\n",
      " Layer (type)                Output Shape              Param #   \n",
      "=================================================================\n",
      " lstm (LSTM)                 (None, 14, 64)            17920     \n",
      "                                                                 \n",
      " lstm_1 (LSTM)               (None, 32)                12416     \n",
      "                                                                 \n",
      " dropout (Dropout)           (None, 32)                0         \n",
      "                                                                 \n",
      " dense (Dense)               (None, 1)                 33        \n",
      "                                                                 \n",
      "=================================================================\n",
      "Total params: 30,369\n",
      "Trainable params: 30,369\n",
      "Non-trainable params: 0\n",
      "_________________________________________________________________\n"
     ]
    }
   ],
   "source": [
    "K.clear_session()\n",
    "\n",
    "model = Sequential()\n",
    "model.add(LSTM(64, activation='relu', input_shape=(trainX.shape[1], trainX.shape[2]), return_sequences=True))\n",
    "model.add(LSTM(32, activation='relu', return_sequences=False))\n",
    "model.add(Dropout(0.2))\n",
    "model.add(Dense(trainY.shape[1]))\n",
    "\n",
    "# compile the model\n",
    "model.compile(optimizer='adam', loss='mse')\n",
    "model.summary()\n"
   ]
  },
  {
   "cell_type": "code",
   "execution_count": 51,
   "metadata": {},
   "outputs": [
    {
     "name": "stdout",
     "output_type": "stream",
     "text": [
      "Epoch 1/10\n",
      "14/14 [==============================] - 4s 82ms/step - loss: 0.4420 - val_loss: 0.9414\n",
      "Epoch 2/10\n",
      "14/14 [==============================] - 1s 51ms/step - loss: 0.0708 - val_loss: 0.1421\n",
      "Epoch 3/10\n",
      "14/14 [==============================] - 1s 57ms/step - loss: 0.0493 - val_loss: 0.0886\n",
      "Epoch 4/10\n",
      "14/14 [==============================] - 1s 53ms/step - loss: 0.0425 - val_loss: 0.0485\n",
      "Epoch 5/10\n",
      "14/14 [==============================] - 1s 58ms/step - loss: 0.0378 - val_loss: 0.0533\n",
      "Epoch 6/10\n",
      "14/14 [==============================] - 1s 54ms/step - loss: 0.0437 - val_loss: 0.0270\n",
      "Epoch 7/10\n",
      "14/14 [==============================] - 1s 55ms/step - loss: 0.0325 - val_loss: 0.0480\n",
      "Epoch 8/10\n",
      "14/14 [==============================] - 1s 55ms/step - loss: 0.0399 - val_loss: 0.0225\n",
      "Epoch 9/10\n",
      "14/14 [==============================] - 1s 55ms/step - loss: 0.0342 - val_loss: 0.1473\n",
      "Epoch 10/10\n",
      "14/14 [==============================] - 1s 52ms/step - loss: 0.0345 - val_loss: 0.0229\n"
     ]
    }
   ],
   "source": [
    "# fit the model\n",
    "history = model.fit(trainX, trainY, epochs=10, batch_size=16, validation_split=0.1, verbose=1)"
   ]
  },
  {
   "cell_type": "code",
   "execution_count": 52,
   "metadata": {},
   "outputs": [
    {
     "data": {
      "text/plain": [
       "<matplotlib.legend.Legend at 0x7fae345e7280>"
      ]
     },
     "execution_count": 52,
     "metadata": {},
     "output_type": "execute_result"
    },
    {
     "data": {
      "image/png": "[encoded data removed]",
      "text/plain": [
       "<Figure size 640x480 with 1 Axes>"
      ]
     },
     "metadata": {},
     "output_type": "display_data"
    }
   ],
   "source": [
    "plt.plot(history.history['loss'], label = 'Training loss')\n",
    "plt.plot(history.history['val_loss'], label='Validation loss')\n",
    "plt.legend()"
   ]
  },
  {
   "cell_type": "code",
   "execution_count": 53,
   "metadata": {},
   "outputs": [
    {
     "name": "stdout",
     "output_type": "stream",
     "text": [
      "[Timestamp('2024-10-28 00:00:00', freq='D'), Timestamp('2024-10-29 00:00:00', freq='D'), Timestamp('2024-10-30 00:00:00', freq='D'), Timestamp('2024-10-31 00:00:00', freq='D'), Timestamp('2024-11-01 00:00:00', freq='D'), Timestamp('2024-11-02 00:00:00', freq='D'), Timestamp('2024-11-03 00:00:00', freq='D'), Timestamp('2024-11-04 00:00:00', freq='D'), Timestamp('2024-11-05 00:00:00', freq='D'), Timestamp('2024-11-06 00:00:00', freq='D'), Timestamp('2024-11-07 00:00:00', freq='D'), Timestamp('2024-11-08 00:00:00', freq='D'), Timestamp('2024-11-09 00:00:00', freq='D'), Timestamp('2024-11-10 00:00:00', freq='D'), Timestamp('2024-11-11 00:00:00', freq='D'), Timestamp('2024-11-12 00:00:00', freq='D'), Timestamp('2024-11-13 00:00:00', freq='D'), Timestamp('2024-11-14 00:00:00', freq='D'), Timestamp('2024-11-15 00:00:00', freq='D'), Timestamp('2024-11-16 00:00:00', freq='D'), Timestamp('2024-11-17 00:00:00', freq='D'), Timestamp('2024-11-18 00:00:00', freq='D'), Timestamp('2024-11-19 00:00:00', freq='D'), Timestamp('2024-11-20 00:00:00', freq='D'), Timestamp('2024-11-21 00:00:00', freq='D'), Timestamp('2024-11-22 00:00:00', freq='D'), Timestamp('2024-11-23 00:00:00', freq='D'), Timestamp('2024-11-24 00:00:00', freq='D'), Timestamp('2024-11-25 00:00:00', freq='D'), Timestamp('2024-11-26 00:00:00', freq='D'), Timestamp('2024-11-27 00:00:00', freq='D'), Timestamp('2024-11-28 00:00:00', freq='D'), Timestamp('2024-11-29 00:00:00', freq='D'), Timestamp('2024-11-30 00:00:00', freq='D'), Timestamp('2024-12-01 00:00:00', freq='D'), Timestamp('2024-12-02 00:00:00', freq='D'), Timestamp('2024-12-03 00:00:00', freq='D'), Timestamp('2024-12-04 00:00:00', freq='D'), Timestamp('2024-12-05 00:00:00', freq='D'), Timestamp('2024-12-06 00:00:00', freq='D'), Timestamp('2024-12-07 00:00:00', freq='D'), Timestamp('2024-12-08 00:00:00', freq='D'), Timestamp('2024-12-09 00:00:00', freq='D'), Timestamp('2024-12-10 00:00:00', freq='D'), Timestamp('2024-12-11 00:00:00', freq='D'), Timestamp('2024-12-12 00:00:00', freq='D'), Timestamp('2024-12-13 00:00:00', freq='D'), Timestamp('2024-12-14 00:00:00', freq='D'), Timestamp('2024-12-15 00:00:00', freq='D'), Timestamp('2024-12-16 00:00:00', freq='D'), Timestamp('2024-12-17 00:00:00', freq='D'), Timestamp('2024-12-18 00:00:00', freq='D'), Timestamp('2024-12-19 00:00:00', freq='D'), Timestamp('2024-12-20 00:00:00', freq='D'), Timestamp('2024-12-21 00:00:00', freq='D'), Timestamp('2024-12-22 00:00:00', freq='D'), Timestamp('2024-12-23 00:00:00', freq='D'), Timestamp('2024-12-24 00:00:00', freq='D'), Timestamp('2024-12-25 00:00:00', freq='D'), Timestamp('2024-12-26 00:00:00', freq='D'), Timestamp('2024-12-27 00:00:00', freq='D'), Timestamp('2024-12-28 00:00:00', freq='D'), Timestamp('2024-12-29 00:00:00', freq='D'), Timestamp('2024-12-30 00:00:00', freq='D'), Timestamp('2024-12-31 00:00:00', freq='D'), Timestamp('2025-01-01 00:00:00', freq='D'), Timestamp('2025-01-02 00:00:00', freq='D'), Timestamp('2025-01-03 00:00:00', freq='D'), Timestamp('2025-01-04 00:00:00', freq='D'), Timestamp('2025-01-05 00:00:00', freq='D'), Timestamp('2025-01-06 00:00:00', freq='D'), Timestamp('2025-01-07 00:00:00', freq='D'), Timestamp('2025-01-08 00:00:00', freq='D'), Timestamp('2025-01-09 00:00:00', freq='D'), Timestamp('2025-01-10 00:00:00', freq='D'), Timestamp('2025-01-11 00:00:00', freq='D'), Timestamp('2025-01-12 00:00:00', freq='D'), Timestamp('2025-01-13 00:00:00', freq='D'), Timestamp('2025-01-14 00:00:00', freq='D'), Timestamp('2025-01-15 00:00:00', freq='D'), Timestamp('2025-01-16 00:00:00', freq='D'), Timestamp('2025-01-17 00:00:00', freq='D'), Timestamp('2025-01-18 00:00:00', freq='D'), Timestamp('2025-01-19 00:00:00', freq='D'), Timestamp('2025-01-20 00:00:00', freq='D'), Timestamp('2025-01-21 00:00:00', freq='D'), Timestamp('2025-01-22 00:00:00', freq='D'), Timestamp('2025-01-23 00:00:00', freq='D'), Timestamp('2025-01-24 00:00:00', freq='D'), Timestamp('2025-01-25 00:00:00', freq='D')]\n",
      "3/3 [==============================] - 0s 9ms/step\n",
      "[[0.55130416]\n",
      " [0.5620683 ]\n",
      " [0.56586725]\n",
      " [0.56466055]\n",
      " [0.5603432 ]\n",
      " [0.55737966]\n",
      " [0.55104923]\n",
      " [0.54258937]\n",
      " [0.5400394 ]\n",
      " [0.54472274]\n",
      " [0.54833335]\n",
      " [0.5568315 ]\n",
      " [0.5651906 ]\n",
      " [0.5761868 ]\n",
      " [0.5823479 ]\n",
      " [0.57922   ]\n",
      " [0.5734624 ]\n",
      " [0.5737976 ]\n",
      " [0.56344026]\n",
      " [0.5524149 ]\n",
      " [0.5441079 ]\n",
      " [0.54534245]\n",
      " [0.5697862 ]\n",
      " [0.5840629 ]\n",
      " [0.59674823]\n",
      " [0.61947554]\n",
      " [0.6458789 ]\n",
      " [0.66774327]\n",
      " [0.6913144 ]\n",
      " [0.7144898 ]\n",
      " [0.70943236]\n",
      " [0.6830295 ]\n",
      " [0.66510785]\n",
      " [0.65240455]\n",
      " [0.6501004 ]\n",
      " [0.6552355 ]\n",
      " [0.66012186]\n",
      " [0.6695958 ]\n",
      " [0.6804415 ]\n",
      " [0.6942195 ]\n",
      " [0.7081312 ]\n",
      " [0.7241802 ]\n",
      " [0.7380122 ]\n",
      " [0.75267154]\n",
      " [0.76661694]\n",
      " [0.7826555 ]\n",
      " [0.79444087]\n",
      " [0.80332404]\n",
      " [0.8128696 ]\n",
      " [0.8271685 ]\n",
      " [0.84265935]\n",
      " [0.83275276]\n",
      " [0.81477726]\n",
      " [0.78903335]\n",
      " [0.7574361 ]\n",
      " [0.7351128 ]\n",
      " [0.7227521 ]\n",
      " [0.7120796 ]\n",
      " [0.714012  ]\n",
      " [0.7395873 ]\n",
      " [0.7834326 ]\n",
      " [0.8329156 ]\n",
      " [0.88979167]\n",
      " [0.95416796]\n",
      " [1.0172664 ]\n",
      " [1.0828903 ]\n",
      " [1.1457053 ]\n",
      " [1.2014315 ]\n",
      " [1.2345451 ]\n",
      " [1.2541838 ]\n",
      " [1.2750468 ]\n",
      " [1.2885369 ]\n",
      " [1.2978418 ]\n",
      " [1.2942923 ]\n",
      " [1.2963415 ]\n",
      " [1.2959491 ]\n",
      " [1.3017231 ]\n",
      " [1.3113047 ]\n",
      " [1.3198459 ]\n",
      " [1.3377126 ]\n",
      " [1.3624221 ]\n",
      " [1.3802857 ]\n",
      " [1.3988328 ]\n",
      " [1.4208233 ]\n",
      " [1.4376587 ]\n",
      " [1.4577632 ]\n",
      " [1.4127978 ]\n",
      " [1.3728864 ]\n",
      " [1.3266778 ]\n",
      " [1.2816019 ]]\n"
     ]
    }
   ],
   "source": [
    "# ## now go ahead and forcast it\n",
    "# # whe used n_future above as 1 because it was for 1 day\n",
    "# # I want to forcast 14 days now\n",
    "#####################################################################\n",
    "# n_future = 90\n",
    "# forcast_period_dates = pd.date_range(list(train_dates)[-1], periods=n_future, freq='1d').tolist()\n",
    "\n",
    "# forcast = model.predict(trainX[-n_future:])\n",
    "# # print(forcast)\n",
    "##############################################################################\n",
    "\n",
    "#Libraries that will help us extract only business days in the US.\n",
    "# Otherwise our dates would be wrong when we look back (or forward).  \n",
    "# from pandas.tseries.holiday import USFederalHolidayCalendar\n",
    "# from pandas.tseries.offsets import CustomBusinessDay\n",
    "# us_bd = CustomBusinessDay(calendar=USFederalHolidayCalendar())\n",
    "\n",
    "#Remember that we can only predict one day in future as our model needs 5 variables\n",
    "#as inputs for prediction. We only have all 5 variables until the last day in our dataset.\n",
    "n_future = 90\n",
    "\n",
    "# predict_period_dates = pd.date_range(list(train_dates)[-n_past], periods=n_days_for_prediction, freq=us_bd).tolist()\n",
    "forcast_period_dates = pd.date_range(list(train_dates)[-1], periods=n_future, freq='1d').tolist()\n",
    "print(forcast_period_dates)\n",
    "\n",
    "#Make prediction\n",
    "forcast = model.predict(trainX[-n_future:]) #shape = (n, 1) where n is the n_days_for_prediction\n",
    "print(forcast)\n"
   ]
  },
  {
   "cell_type": "code",
   "execution_count": 54,
   "metadata": {},
   "outputs": [
    {
     "name": "stdout",
     "output_type": "stream",
     "text": [
      "[160.67636 161.02339 161.14586 161.10696 160.96777 160.87224 160.66815\n",
      " 160.39542 160.3132  160.46419 160.5806  160.85457 161.12405 161.47855\n",
      " 161.67719 161.57634 161.39072 161.40154 161.06763 160.71217 160.44437\n",
      " 160.48416 161.2722  161.73247 162.14143 162.87413 163.72534 164.43022\n",
      " 165.19012 165.93727 165.77423 164.92303 164.34526 163.93571 163.86143\n",
      " 164.027   164.18452 164.48994 164.8396  165.28378 165.73228 166.24968\n",
      " 166.6956  167.16821 167.6178  168.13486 168.5148  168.80118 169.10892\n",
      " 169.5699  170.0693  169.74992 169.17043 168.34047 167.32181 166.60214\n",
      " 166.20364 165.85957 165.92188 166.74638 168.15991 169.75517 171.58879\n",
      " 173.66422 175.69843 177.81406 179.83914 181.63568 182.70323 183.33635\n",
      " 184.00896 184.44386 184.74384 184.62941 184.69547 184.68282 184.86897\n",
      " 185.17787 185.45322 186.02922 186.82584 187.40173 187.99966 188.70862\n",
      " 189.25136 189.8995  188.44987 187.1632  185.67348 184.22028]\n"
     ]
    }
   ],
   "source": [
    "## now I want to bring the original number back from scaling\n",
    "#Perform inverse transformation to rescale back to original range\n",
    "#Since we used 5 variables for transform, the inverse expects same dimensions\n",
    "#Therefore, let us copy our values 5 times and discard them after inverse transform\n",
    "\n",
    "forcast_copies = np.repeat(forcast, df_for_training.shape[1], axis=-1)\n",
    "y_pred_future = scaler.inverse_transform(forcast_copies)[:,0]\n",
    "print(y_pred_future)"
   ]
  },
  {
   "cell_type": "code",
   "execution_count": 55,
   "metadata": {},
   "outputs": [],
   "source": [
    "\n",
    "\n",
    "# Convert timestamp to date\n",
    "forecast_dates = []\n",
    "for time_i in forcast_period_dates:\n",
    "    forecast_dates.append(time_i.date())\n",
    "\n",
    " ## now capture y_pred_future adn forcast_dates both in a single dataframe\n",
    "   \n",
    "df_forecast = pd.DataFrame({'Date':np.array(forecast_dates), 'Open':y_pred_future})\n",
    "df_forecast['Date']=pd.to_datetime(df_forecast['Date'])\n",
    "\n",
    "# print(df_forecast)"
   ]
  },
  {
   "cell_type": "code",
   "execution_count": 56,
   "metadata": {},
   "outputs": [
    {
     "data": {
      "image/png": "[encoded data removed]",
      "text/plain": [
       "<Figure size 1000x600 with 1 Axes>"
      ]
     },
     "metadata": {},
     "output_type": "display_data"
    }
   ],
   "source": [
    "original = df[['Date', 'Open']].copy()\n",
    "original['Date'] = pd.to_datetime(original['Date'])\n",
    "original = original[original['Date'] >= '2023-11-01']\n",
    "\n",
    "# Set up the plot\n",
    "plt.figure(figsize=(10, 6))\n",
    "sns.lineplot(data=original, x='Date', y='Open', label='Original Data')\n",
    "sns.lineplot(data=df_forecast, x='Date', y='Open', label='Forecast')\n",
    "\n",
    "# Add labels and title\n",
    "plt.xlabel('Date')\n",
    "plt.ylabel('Open Price')\n",
    "plt.title('Original and Forecasted Open Prices')\n",
    "plt.legend()\n",
    "plt.show()"
   ]
  }
 ],
 "metadata": {
  "kernelspec": {
   "display_name": "tf_gpu",
   "language": "python",
   "name": "python3"
  },
  "language_info": {
   "codemirror_mode": {
    "name": "ipython",
    "version": 3
   },
   "file_extension": ".py",
   "mimetype": "text/x-python",
   "name": "python",
   "nbconvert_exporter": "python",
   "pygments_lexer": "ipython3",
   "version": "3.9.7"
  }
 },
 "nbformat": 4,
 "nbformat_minor": 2
}
